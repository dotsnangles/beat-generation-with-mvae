{
 "cells": [
  {
   "cell_type": "code",
   "execution_count": null,
   "metadata": {},
   "outputs": [],
   "source": [
    "### for training on colab\n",
    "\n",
    "# from google.colab import drive\n",
    "# drive.mount('/content/drive')\n",
    "\n",
    "# %cd /content/drive/MyDrive/codes/beat-generation-with-mvae/magenta\n",
    "# !pip install -e .\n",
    "# !pip install apache_beam\n",
    "# !sudo apt-get install build-essential libasound2-dev libjack-dev portaudio19-dev -y\n",
    "# %cd /content/drive/MyDrive/codes/beat-generation-with-mvae"
   ]
  },
  {
   "cell_type": "code",
   "execution_count": null,
   "metadata": {},
   "outputs": [],
   "source": [
    "# !gdown 1S1mklYya0RLJOdRuw-kvBAzBIEStmJJ2\n",
    "# !gdown 1S4XzlJEPqqpSHjb7fj0oAVj41GqgwqpG\n",
    "# !tar -cvf hierdec-drum_4bar-ckpt-7068.tar 'model.ckpt-7068.data-00000-of-00001' 'model.ckpt-7068.index'\n",
    "# !rm 'model.ckpt-7068.data-00000-of-00001' 'model.ckpt-7068.index'"
   ]
  },
  {
   "cell_type": "markdown",
   "metadata": {},
   "source": [
    "# convert_dir_to_note_sequences"
   ]
  },
  {
   "cell_type": "code",
   "execution_count": null,
   "metadata": {},
   "outputs": [],
   "source": [
    "# %%!\n",
    "\n",
    "# INPUT_DIRECTORY=data/selected_midis_rock_beat\n",
    "\n",
    "# # TFRecord file that will contain NoteSequence protocol buffers.\n",
    "# SEQUENCES_TFRECORD=data/v2/notesequences.tfrecord\n",
    "\n",
    "# python magenta/magenta/scripts/convert_dir_to_note_sequences.py \\\n",
    "#   --input_dir=$INPUT_DIRECTORY \\\n",
    "#   --output_file=$SEQUENCES_TFRECORD \\\n",
    "#   --recursive"
   ]
  },
  {
   "cell_type": "markdown",
   "metadata": {},
   "source": [
    "# preprocess_tfrecord (sharding)"
   ]
  },
  {
   "cell_type": "code",
   "execution_count": null,
   "metadata": {},
   "outputs": [],
   "source": [
    "# %%!\n",
    "\n",
    "# CONFIG=hierdec-drum_4bar\n",
    "\n",
    "# python magenta/magenta/models/music_vae/preprocess_tfrecord.py \\\n",
    "# --input_tfrecord=data/v2/notesequences.tfrecord \\\n",
    "# --output_tfrecord=data/v2/train-$CONFIG.tfrecord \\\n",
    "# --output_shards=1 \\\n",
    "# --config=$CONFIG \\\n",
    "# --alsologtostderr"
   ]
  },
  {
   "cell_type": "markdown",
   "metadata": {},
   "source": [
    "# music_vae_train"
   ]
  },
  {
   "cell_type": "code",
   "execution_count": null,
   "metadata": {},
   "outputs": [],
   "source": [
    "# %%!\n",
    "\n",
    "# python magenta/magenta/models/music_vae/music_vae_train.py \\\n",
    "# --config=hierdec-drum_4bar \\\n",
    "# --run_dir=temp \\\n",
    "# --mode=train \\\n",
    "# --examples_path=data/notesequences.tfrecord"
   ]
  },
  {
   "cell_type": "code",
   "execution_count": null,
   "metadata": {},
   "outputs": [],
   "source": [
    "!python magenta/magenta/models/music_vae/music_vae_train.py --config=hierdec-drum_4bar --run_dir=temp --mode=train --examples_path=data/notesequences.tfrecord"
   ]
  }
 ],
 "metadata": {
  "kernelspec": {
   "display_name": "Python 3.8.13 ('mvae')",
   "language": "python",
   "name": "python3"
  },
  "language_info": {
   "codemirror_mode": {
    "name": "ipython",
    "version": 3
   },
   "file_extension": ".py",
   "mimetype": "text/x-python",
   "name": "python",
   "nbconvert_exporter": "python",
   "pygments_lexer": "ipython3",
   "version": "3.8.13"
  },
  "orig_nbformat": 4,
  "vscode": {
   "interpreter": {
    "hash": "d0e19ede0c40c4e3f9f9593be40b4940b4a1821e84e57723945abe3794f89967"
   }
  }
 },
 "nbformat": 4,
 "nbformat_minor": 2
}
