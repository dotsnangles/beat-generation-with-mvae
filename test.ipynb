{
 "cells": [
  {
   "cell_type": "code",
   "execution_count": null,
   "metadata": {},
   "outputs": [],
   "source": [
    "# from google.colab import drive\n",
    "# drive.mount('/content/drive')\n",
    "\n",
    "# %cd /content/drive/MyDrive/codes/beat-generation-with-mvae/magenta\n",
    "# !pip install -e .\n",
    "# !pip install apache_beam\n",
    "# !sudo apt-get install build-essential libasound2-dev libjack-dev portaudio19-dev -y\n",
    "# %cd /content/drive/MyDrive/codes/beat-generation-with-mvae"
   ]
  },
  {
   "cell_type": "code",
   "execution_count": 26,
   "metadata": {},
   "outputs": [],
   "source": [
    "# !gdown 19cQS_Iz-L9X5jBXe_ms6w6WME1F9zsB_ \n",
    "# !gdown 19mQLbnMh7MdGpnE2M2E5funhy0ZCD5kp\n",
    "# !tar -cvf hierdec-drum_4bar.tar 'model.ckpt-2042.data-00000-of-00001' 'model.ckpt-2042.index'\n",
    "# !rm 'model.ckpt-2042.data-00000-of-00001' 'model.ckpt-2042.index'"
   ]
  },
  {
   "cell_type": "markdown",
   "metadata": {},
   "source": [
    "# convert_dir_to_note_sequences"
   ]
  },
  {
   "cell_type": "code",
   "execution_count": null,
   "metadata": {},
   "outputs": [],
   "source": [
    "# %%!\n",
    "\n",
    "# INPUT_DIRECTORY=data/groove\n",
    "\n",
    "# # TFRecord file that will contain NoteSequence protocol buffers.\n",
    "# SEQUENCES_TFRECORD=notesequences.tfrecord\n",
    "\n",
    "# python magenta/magenta/scripts/convert_dir_to_note_sequences.py \\\n",
    "#   --input_dir=$INPUT_DIRECTORY \\\n",
    "#   --output_file=$SEQUENCES_TFRECORD \\\n",
    "#   --recursive"
   ]
  },
  {
   "cell_type": "markdown",
   "metadata": {},
   "source": [
    "# preprocess_tfrecord"
   ]
  },
  {
   "cell_type": "code",
   "execution_count": 20,
   "metadata": {},
   "outputs": [],
   "source": [
    "# %%!\n",
    "\n",
    "# CONFIG=hierdec-drum_4bar\n",
    "\n",
    "# python magenta/magenta/models/music_vae/preprocess_tfrecord.py \\\n",
    "# --input_tfrecord=data/notesequences.tfrecord \\\n",
    "# --output_tfrecord=data/train-$CONFIG.tfrecord \\\n",
    "# --output_shards=10 \\\n",
    "# --config=$CONFIG \\\n",
    "# --alsologtostderr"
   ]
  },
  {
   "cell_type": "markdown",
   "metadata": {},
   "source": [
    "# music_vae_generate"
   ]
  },
  {
   "cell_type": "code",
   "execution_count": 27,
   "metadata": {},
   "outputs": [
    {
     "data": {
      "text/plain": [
       "[\"2022-11-19 16:06:30.566331: W tensorflow/stream_executor/platform/default/dso_loader.cc:64] Could not load dynamic library 'libcudart.so.11.0'; dlerror: libcudart.so.11.0: cannot open shared object file: No such file or directory\",\n",
       " '2022-11-19 16:06:30.566385: I tensorflow/stream_executor/cuda/cudart_stub.cc:29] Ignore above cudart dlerror if you do not have a GPU set up on your machine.',\n",
       " '/home/jake/anaconda3/envs/mvae/lib/python3.8/site-packages/librosa/util/decorators.py:9: NumbaDeprecationWarning: An import was requested from a module that has moved location.',\n",
       " \"Import requested from: 'numba.decorators', please update to use 'numba.core.decorators' or pin to Numba version 0.48.0. This alias will not be present in Numba version 0.50.0.\",\n",
       " '  from numba.decorators import jit as optional_jit',\n",
       " '/home/jake/anaconda3/envs/mvae/lib/python3.8/site-packages/librosa/util/decorators.py:9: NumbaDeprecationWarning: An import was requested from a module that has moved location.',\n",
       " \"Import of 'jit' requested from: 'numba.decorators', please update to use 'numba.core.decorators' or pin to Numba version 0.48.0. This alias will not be present in Numba version 0.50.0.\",\n",
       " '  from numba.decorators import jit as optional_jit',\n",
       " \"/home/jake/anaconda3/envs/mvae/lib/python3.8/site-packages/pydub/utils.py:170: RuntimeWarning: Couldn't find ffmpeg or avconv - defaulting to ffmpeg, but may not work\",\n",
       " '  warn(\"Couldn\\'t find ffmpeg or avconv - defaulting to ffmpeg, but may not work\", RuntimeWarning)',\n",
       " 'WARNING:tensorflow:From /home/jake/anaconda3/envs/mvae/lib/python3.8/site-packages/tensorflow/python/compat/v2_compat.py:107: disable_resource_variables (from tensorflow.python.ops.variable_scope) is deprecated and will be removed in a future version.',\n",
       " 'Instructions for updating:',\n",
       " 'non-resource variables are not supported in the long term',\n",
       " '2022-11-19 16:06:44.027777: I tensorflow/stream_executor/cuda/cuda_gpu_executor.cc:961] could not open file to read NUMA node: /sys/bus/pci/devices/0000:09:00.0/numa_node',\n",
       " 'Your kernel may have been built without NUMA support.',\n",
       " \"2022-11-19 16:06:44.027981: W tensorflow/stream_executor/platform/default/dso_loader.cc:64] Could not load dynamic library 'libcudart.so.11.0'; dlerror: libcudart.so.11.0: cannot open shared object file: No such file or directory\",\n",
       " \"2022-11-19 16:06:44.028067: W tensorflow/stream_executor/platform/default/dso_loader.cc:64] Could not load dynamic library 'libcublas.so.11'; dlerror: libcublas.so.11: cannot open shared object file: No such file or directory\",\n",
       " \"2022-11-19 16:06:44.028149: W tensorflow/stream_executor/platform/default/dso_loader.cc:64] Could not load dynamic library 'libcublasLt.so.11'; dlerror: libcublasLt.so.11: cannot open shared object file: No such file or directory\",\n",
       " \"2022-11-19 16:06:44.028228: W tensorflow/stream_executor/platform/default/dso_loader.cc:64] Could not load dynamic library 'libcufft.so.10'; dlerror: libcufft.so.10: cannot open shared object file: No such file or directory\",\n",
       " \"2022-11-19 16:06:44.028306: W tensorflow/stream_executor/platform/default/dso_loader.cc:64] Could not load dynamic library 'libcurand.so.10'; dlerror: libcurand.so.10: cannot open shared object file: No such file or directory\",\n",
       " \"2022-11-19 16:06:44.028383: W tensorflow/stream_executor/platform/default/dso_loader.cc:64] Could not load dynamic library 'libcusolver.so.11'; dlerror: libcusolver.so.11: cannot open shared object file: No such file or directory\",\n",
       " \"2022-11-19 16:06:44.028467: W tensorflow/stream_executor/platform/default/dso_loader.cc:64] Could not load dynamic library 'libcusparse.so.11'; dlerror: libcusparse.so.11: cannot open shared object file: No such file or directory\",\n",
       " \"2022-11-19 16:06:44.028552: W tensorflow/stream_executor/platform/default/dso_loader.cc:64] Could not load dynamic library 'libcudnn.so.8'; dlerror: libcudnn.so.8: cannot open shared object file: No such file or directory\",\n",
       " '2022-11-19 16:06:44.028603: W tensorflow/core/common_runtime/gpu/gpu_device.cc:1850] Cannot dlopen some GPU libraries. Please make sure the missing libraries mentioned above are installed properly if you would like to use GPU. Follow the guide at https://www.tensorflow.org/install/gpu for how to download and setup the required libraries for your platform.',\n",
       " 'Skipping registering GPU devices...',\n",
       " 'INFO:tensorflow:Loading model...',\n",
       " 'I1119 16:06:44.029192 139964690616704 music_vae_generate.py:149] Loading model...',\n",
       " 'INFO:tensorflow:Building MusicVAE model with BidirectionalLstmEncoder, HierarchicalLstmDecoder, and hparams:',\n",
       " \"{'max_seq_len': 64, 'z_size': 512, 'free_bits': 48, 'max_beta': 0.2, 'beta_rate': 0.0, 'batch_size': 5, 'grad_clip': 1.0, 'clip_mode': 'global_norm', 'grad_norm_clip_to_zero': 10000, 'learning_rate': 0.001, 'decay_rate': 0.9999, 'min_learning_rate': 1e-05, 'conditional': True, 'dec_rnn_size': [256, 256], 'enc_rnn_size': [512, 512], 'dropout_keep_prob': 1.0, 'sampling_schedule': 'inverse_sigmoid', 'sampling_rate': 1000, 'use_cudnn': False, 'residual_encoder': False, 'residual_decoder': False, 'control_preprocessing_rnn_size': [256]}\",\n",
       " 'I1119 16:06:44.030842 139964690616704 base_model.py:150] Building MusicVAE model with BidirectionalLstmEncoder, HierarchicalLstmDecoder, and hparams:',\n",
       " \"{'max_seq_len': 64, 'z_size': 512, 'free_bits': 48, 'max_beta': 0.2, 'beta_rate': 0.0, 'batch_size': 5, 'grad_clip': 1.0, 'clip_mode': 'global_norm', 'grad_norm_clip_to_zero': 10000, 'learning_rate': 0.001, 'decay_rate': 0.9999, 'min_learning_rate': 1e-05, 'conditional': True, 'dec_rnn_size': [256, 256], 'enc_rnn_size': [512, 512], 'dropout_keep_prob': 1.0, 'sampling_schedule': 'inverse_sigmoid', 'sampling_rate': 1000, 'use_cudnn': False, 'residual_encoder': False, 'residual_decoder': False, 'control_preprocessing_rnn_size': [256]}\",\n",
       " 'INFO:tensorflow:',\n",
       " 'Encoder Cells (bidirectional):',\n",
       " '  units: [512, 512]',\n",
       " '',\n",
       " 'I1119 16:06:44.038065 139964690616704 lstm_models.py:76] ',\n",
       " 'Encoder Cells (bidirectional):',\n",
       " '  units: [512, 512]',\n",
       " '',\n",
       " 'WARNING:tensorflow:`tf.nn.rnn_cell.MultiRNNCell` is deprecated. This class is equivalent as `tf.keras.layers.StackedRNNCells`, and will be replaced by that in Tensorflow 2.0.',\n",
       " 'W1119 16:06:44.045141 139964690616704 legacy_cells.py:1109] `tf.nn.rnn_cell.MultiRNNCell` is deprecated. This class is equivalent as `tf.keras.layers.StackedRNNCells`, and will be replaced by that in Tensorflow 2.0.',\n",
       " 'WARNING:tensorflow:`tf.nn.rnn_cell.MultiRNNCell` is deprecated. This class is equivalent as `tf.keras.layers.StackedRNNCells`, and will be replaced by that in Tensorflow 2.0.',\n",
       " 'W1119 16:06:44.051958 139964690616704 legacy_cells.py:1109] `tf.nn.rnn_cell.MultiRNNCell` is deprecated. This class is equivalent as `tf.keras.layers.StackedRNNCells`, and will be replaced by that in Tensorflow 2.0.',\n",
       " 'WARNING:tensorflow:`tf.nn.rnn_cell.MultiRNNCell` is deprecated. This class is equivalent as `tf.keras.layers.StackedRNNCells`, and will be replaced by that in Tensorflow 2.0.',\n",
       " 'W1119 16:06:44.058568 139964690616704 legacy_cells.py:1109] `tf.nn.rnn_cell.MultiRNNCell` is deprecated. This class is equivalent as `tf.keras.layers.StackedRNNCells`, and will be replaced by that in Tensorflow 2.0.',\n",
       " 'WARNING:tensorflow:`tf.nn.rnn_cell.MultiRNNCell` is deprecated. This class is equivalent as `tf.keras.layers.StackedRNNCells`, and will be replaced by that in Tensorflow 2.0.',\n",
       " 'W1119 16:06:44.065309 139964690616704 legacy_cells.py:1109] `tf.nn.rnn_cell.MultiRNNCell` is deprecated. This class is equivalent as `tf.keras.layers.StackedRNNCells`, and will be replaced by that in Tensorflow 2.0.',\n",
       " 'INFO:tensorflow:',\n",
       " 'Hierarchical Decoder:',\n",
       " '  input length: 64',\n",
       " '  level output lengths: [8, 8]',\n",
       " '',\n",
       " 'I1119 16:06:44.065692 139964690616704 lstm_models.py:894] ',\n",
       " 'Hierarchical Decoder:',\n",
       " '  input length: 64',\n",
       " '  level output lengths: [8, 8]',\n",
       " '',\n",
       " 'WARNING:tensorflow:`tf.nn.rnn_cell.MultiRNNCell` is deprecated. This class is equivalent as `tf.keras.layers.StackedRNNCells`, and will be replaced by that in Tensorflow 2.0.',\n",
       " 'W1119 16:06:44.076459 139964690616704 legacy_cells.py:1109] `tf.nn.rnn_cell.MultiRNNCell` is deprecated. This class is equivalent as `tf.keras.layers.StackedRNNCells`, and will be replaced by that in Tensorflow 2.0.',\n",
       " 'INFO:tensorflow:',\n",
       " 'Decoder Cells:',\n",
       " '  units: [256, 256]',\n",
       " '',\n",
       " 'I1119 16:06:44.076913 139964690616704 lstm_models.py:222] ',\n",
       " 'Decoder Cells:',\n",
       " '  units: [256, 256]',\n",
       " '',\n",
       " 'WARNING:tensorflow:Setting non-training sampling schedule from inverse_sigmoid:1000.000000 to constant:1.0.',\n",
       " 'W1119 16:06:44.077070 139964690616704 lstm_utils.py:137] Setting non-training sampling schedule from inverse_sigmoid:1000.000000 to constant:1.0.',\n",
       " 'WARNING:tensorflow:From /home/jake/anaconda3/envs/mvae/lib/python3.8/site-packages/tensorflow/python/util/dispatch.py:1082: to_float (from tensorflow.python.ops.math_ops) is deprecated and will be removed in a future version.',\n",
       " 'Instructions for updating:',\n",
       " 'Use `tf.cast` instead.',\n",
       " 'W1119 16:06:44.077268 139964690616704 deprecation.py:350] From /home/jake/anaconda3/envs/mvae/lib/python3.8/site-packages/tensorflow/python/util/dispatch.py:1082: to_float (from tensorflow.python.ops.math_ops) is deprecated and will be removed in a future version.',\n",
       " 'Instructions for updating:',\n",
       " 'Use `tf.cast` instead.',\n",
       " 'WARNING:tensorflow:`tf.nn.rnn_cell.MultiRNNCell` is deprecated. This class is equivalent as `tf.keras.layers.StackedRNNCells`, and will be replaced by that in Tensorflow 2.0.',\n",
       " 'W1119 16:06:44.094056 139964690616704 legacy_cells.py:1109] `tf.nn.rnn_cell.MultiRNNCell` is deprecated. This class is equivalent as `tf.keras.layers.StackedRNNCells`, and will be replaced by that in Tensorflow 2.0.',\n",
       " '/home/jake/codes/beat-generation-with-mvae/magenta/magenta/models/music_vae/lstm_utils.py:94: UserWarning: `tf.layers.dense` is deprecated and will be removed in a future version. Please use `tf.keras.layers.Dense` instead.',\n",
       " '  tf.layers.dense(',\n",
       " '/home/jake/codes/beat-generation-with-mvae/magenta/magenta/contrib/rnn.py:749: UserWarning: `layer.add_variable` is deprecated and will be removed in a future version. Please use the `layer.add_weight()` method instead.',\n",
       " '  self._kernel = self.add_variable(',\n",
       " '/home/jake/codes/beat-generation-with-mvae/magenta/magenta/contrib/rnn.py:751: UserWarning: `layer.add_variable` is deprecated and will be removed in a future version. Please use the `layer.add_weight()` method instead.',\n",
       " '  self._bias = self.add_variable(',\n",
       " 'WARNING:tensorflow:From /home/jake/codes/beat-generation-with-mvae/magenta/magenta/contrib/rnn.py:463: bidirectional_dynamic_rnn (from tensorflow.python.ops.rnn) is deprecated and will be removed in a future version.',\n",
       " 'Instructions for updating:',\n",
       " 'Please use `keras.layers.Bidirectional(keras.layers.RNN(cell))`, which is equivalent to this API',\n",
       " 'W1119 16:06:45.577494 139964690616704 deprecation.py:350] From /home/jake/codes/beat-generation-with-mvae/magenta/magenta/contrib/rnn.py:463: bidirectional_dynamic_rnn (from tensorflow.python.ops.rnn) is deprecated and will be removed in a future version.',\n",
       " 'Instructions for updating:',\n",
       " 'Please use `keras.layers.Bidirectional(keras.layers.RNN(cell))`, which is equivalent to this API',\n",
       " 'WARNING:tensorflow:From /home/jake/anaconda3/envs/mvae/lib/python3.8/site-packages/tensorflow/python/ops/rnn.py:437: dynamic_rnn (from tensorflow.python.ops.rnn) is deprecated and will be removed in a future version.',\n",
       " 'Instructions for updating:',\n",
       " 'Please use `keras.layers.RNN(cell)`, which is equivalent to this API',\n",
       " 'W1119 16:06:45.577979 139964690616704 deprecation.py:350] From /home/jake/anaconda3/envs/mvae/lib/python3.8/site-packages/tensorflow/python/ops/rnn.py:437: dynamic_rnn (from tensorflow.python.ops.rnn) is deprecated and will be removed in a future version.',\n",
       " 'Instructions for updating:',\n",
       " 'Please use `keras.layers.RNN(cell)`, which is equivalent to this API',\n",
       " '/home/jake/codes/beat-generation-with-mvae/magenta/magenta/models/music_vae/base_model.py:195: UserWarning: `tf.layers.dense` is deprecated and will be removed in a future version. Please use `tf.keras.layers.Dense` instead.',\n",
       " '  mu = tf.layers.dense(',\n",
       " '/home/jake/codes/beat-generation-with-mvae/magenta/magenta/models/music_vae/base_model.py:200: UserWarning: `tf.layers.dense` is deprecated and will be removed in a future version. Please use `tf.keras.layers.Dense` instead.',\n",
       " '  sigma = tf.layers.dense(',\n",
       " 'WARNING:tensorflow:From /home/jake/anaconda3/envs/mvae/lib/python3.8/site-packages/tensorflow_probability/python/distributions/distribution.py:342: calling MultivariateNormalDiag.__init__ (from tensorflow_probability.python.distributions.mvn_diag) with scale_identity_multiplier is deprecated and will be removed after 2020-01-01.',\n",
       " 'Instructions for updating:',\n",
       " '`scale_identity_multiplier` is deprecated; please combine it into `scale_diag` directly instead.',\n",
       " 'W1119 16:06:45.903062 139964690616704 deprecation.py:554] From /home/jake/anaconda3/envs/mvae/lib/python3.8/site-packages/tensorflow_probability/python/distributions/distribution.py:342: calling MultivariateNormalDiag.__init__ (from tensorflow_probability.python.distributions.mvn_diag) with scale_identity_multiplier is deprecated and will be removed after 2020-01-01.',\n",
       " 'Instructions for updating:',\n",
       " '`scale_identity_multiplier` is deprecated; please combine it into `scale_diag` directly instead.',\n",
       " '2022-11-19 16:06:45.933641: I tensorflow/core/platform/cpu_feature_guard.cc:193] This TensorFlow binary is optimized with oneAPI Deep Neural Network Library (oneDNN) to use the following CPU instructions in performance-critical operations:  AVX2 FMA',\n",
       " 'To enable them in other operations, rebuild TensorFlow with the appropriate compiler flags.',\n",
       " 'INFO:tensorflow:Unbundling checkpoint.',\n",
       " 'I1119 16:06:45.956965 139964690616704 trained_model.py:122] Unbundling checkpoint.',\n",
       " 'INFO:tensorflow:Restoring parameters from /tmp/tmp6vvqmj4z/model.ckpt-2042',\n",
       " 'I1119 16:06:46.112830 139964690616704 saver.py:1412] Restoring parameters from /tmp/tmp6vvqmj4z/model.ckpt-2042',\n",
       " '2022-11-19 16:06:46.143803: I tensorflow/compiler/mlir/mlir_graph_optimization_pass.cc:354] MLIR V1 optimization pass is not enabled',\n",
       " 'INFO:tensorflow:Sampling...',\n",
       " 'I1119 16:06:46.251293 139964690616704 music_vae_generate.py:169] Sampling...',\n",
       " 'INFO:tensorflow:Outputting 5 files as `generated-4bar/hierdec-drum_4bar_sample_2022-11-19_160644-*-of-005.mid`...',\n",
       " 'I1119 16:06:46.669703 139964690616704 music_vae_generate.py:179] Outputting 5 files as `generated-4bar/hierdec-drum_4bar_sample_2022-11-19_160644-*-of-005.mid`...',\n",
       " 'INFO:tensorflow:Done.',\n",
       " 'I1119 16:06:46.696002 139964690616704 music_vae_generate.py:183] Done.']"
      ]
     },
     "execution_count": 27,
     "metadata": {},
     "output_type": "execute_result"
    }
   ],
   "source": [
    "%%!\n",
    "\n",
    "python magenta/magenta/models/music_vae/music_vae_generate.py \\\n",
    "--config=hierdec-drum_4bar \\\n",
    "--checkpoint_file=hierdec-drum_4bar.tar \\\n",
    "--mode=sample \\\n",
    "--num_outputs=5 \\\n",
    "--output_dir='generated-4bar'"
   ]
  },
  {
   "cell_type": "markdown",
   "metadata": {},
   "source": [
    "# music_vae_train"
   ]
  },
  {
   "cell_type": "code",
   "execution_count": null,
   "metadata": {},
   "outputs": [],
   "source": [
    "# %%!\n",
    "\n",
    "# python magenta/magenta/models/music_vae/music_vae_train.py \\\n",
    "# --config=hierdec-drum_4bar \\\n",
    "# --run_dir=temp \\\n",
    "# --mode=train \\\n",
    "# --examples_path=data/notesequences.tfrecord"
   ]
  },
  {
   "cell_type": "code",
   "execution_count": null,
   "metadata": {},
   "outputs": [],
   "source": [
    "!python magenta/magenta/models/music_vae/music_vae_train.py --config=hierdec-drum_4bar --run_dir=temp --mode=train --examples_path=data/notesequences.tfrecord"
   ]
  }
 ],
 "metadata": {
  "kernelspec": {
   "display_name": "Python 3.8.13 ('mvae')",
   "language": "python",
   "name": "python3"
  },
  "language_info": {
   "codemirror_mode": {
    "name": "ipython",
    "version": 3
   },
   "file_extension": ".py",
   "mimetype": "text/x-python",
   "name": "python",
   "nbconvert_exporter": "python",
   "pygments_lexer": "ipython3",
   "version": "3.8.13"
  },
  "orig_nbformat": 4,
  "vscode": {
   "interpreter": {
    "hash": "d0e19ede0c40c4e3f9f9593be40b4940b4a1821e84e57723945abe3794f89967"
   }
  }
 },
 "nbformat": 4,
 "nbformat_minor": 2
}
