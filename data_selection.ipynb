{
 "cells": [
  {
   "cell_type": "code",
   "execution_count": 12,
   "metadata": {},
   "outputs": [],
   "source": [
    "root = 'data/groove'"
   ]
  },
  {
   "cell_type": "code",
   "execution_count": 36,
   "metadata": {},
   "outputs": [],
   "source": [
    "import os\n",
    "import shutil"
   ]
  },
  {
   "cell_type": "code",
   "execution_count": 19,
   "metadata": {},
   "outputs": [],
   "source": [
    "subs = os.listdir(root)\n",
    "subs = [x for x in subs if 'drummer' in x]"
   ]
  },
  {
   "cell_type": "code",
   "execution_count": 39,
   "metadata": {},
   "outputs": [],
   "source": [
    "genre = 'rock'\n",
    "style = 'beat'\n",
    "os.makedirs(f'data/selected_midis_{genre}_{style}')\n",
    "\n",
    "for sub in subs:\n",
    "    folders = os.listdir(os.path.join(root, sub))\n",
    "    folders = [x for x in folders if 'session' in x and 'eval' not in x]\n",
    "    for folder in folders:\n",
    "        midis = os.listdir(os.path.join(root, sub, folder))\n",
    "        midis = [os.path.join(root, sub, folder, x) for x in midis if '.mid' in x and style in x and genre in x]\n",
    "        for midi in midis:\n",
    "            shutil.copy(midi, f'data/selected_midis_{genre}_{style}')"
   ]
  }
 ],
 "metadata": {
  "kernelspec": {
   "display_name": "Python 3.8.13 ('mvae')",
   "language": "python",
   "name": "python3"
  },
  "language_info": {
   "codemirror_mode": {
    "name": "ipython",
    "version": 3
   },
   "file_extension": ".py",
   "mimetype": "text/x-python",
   "name": "python",
   "nbconvert_exporter": "python",
   "pygments_lexer": "ipython3",
   "version": "3.8.13"
  },
  "orig_nbformat": 4,
  "vscode": {
   "interpreter": {
    "hash": "d0e19ede0c40c4e3f9f9593be40b4940b4a1821e84e57723945abe3794f89967"
   }
  }
 },
 "nbformat": 4,
 "nbformat_minor": 2
}
