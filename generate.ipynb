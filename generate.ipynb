{
 "cells": [
  {
   "cell_type": "markdown",
   "metadata": {},
   "source": [
    "# music_vae_generate"
   ]
  },
  {
   "cell_type": "code",
   "execution_count": 8,
   "metadata": {},
   "outputs": [
    {
     "name": "stdout",
     "output_type": "stream",
     "text": [
      "Downloading...\n",
      "From: https://drive.google.com/uc?id=1LFxm56HYl3PVegayG0tMTEjWrdVSPmrd\n",
      "To: /home/jake/codes/beat-generation-with-mvae/model.ckpt-5211.data-00000-of-00001\n",
      "100%|████████████████████████████████████████| 172M/172M [00:15<00:00, 11.1MB/s]\n",
      "Downloading...\n",
      "From: https://drive.google.com/uc?id=1LH5TEUl41pqDuLCWORBr26KO5eUuaDJo\n",
      "To: /home/jake/codes/beat-generation-with-mvae/model.ckpt-5211.index\n",
      "100%|██████████████████████████████████████| 3.36k/3.36k [00:00<00:00, 11.3MB/s]\n"
     ]
    }
   ],
   "source": [
    "!gdown 1LFxm56HYl3PVegayG0tMTEjWrdVSPmrd\n",
    "!gdown 1LH5TEUl41pqDuLCWORBr26KO5eUuaDJo"
   ]
  },
  {
   "cell_type": "code",
   "execution_count": 9,
   "metadata": {},
   "outputs": [
    {
     "name": "stdout",
     "output_type": "stream",
     "text": [
      "model.ckpt-5211.data-00000-of-00001\n",
      "model.ckpt-5211.index\n"
     ]
    }
   ],
   "source": [
    "!tar -cvf hierdec-drum_4bar-ckpt-5211.tar 'model.ckpt-5211.data-00000-of-00001' 'model.ckpt-5211.index'\n",
    "!rm 'model.ckpt-5211.data-00000-of-00001' 'model.ckpt-5211.index'"
   ]
  },
  {
   "cell_type": "code",
   "execution_count": 5,
   "metadata": {},
   "outputs": [
    {
     "data": {
      "text/plain": [
       "[\"2022-11-19 22:10:05.905181: W tensorflow/stream_executor/platform/default/dso_loader.cc:64] Could not load dynamic library 'libcudart.so.11.0'; dlerror: libcudart.so.11.0: cannot open shared object file: No such file or directory\",\n",
       " '2022-11-19 22:10:05.905242: I tensorflow/stream_executor/cuda/cudart_stub.cc:29] Ignore above cudart dlerror if you do not have a GPU set up on your machine.',\n",
       " '/home/jake/anaconda3/envs/mvae/lib/python3.8/site-packages/librosa/util/decorators.py:9: NumbaDeprecationWarning: An import was requested from a module that has moved location.',\n",
       " \"Import requested from: 'numba.decorators', please update to use 'numba.core.decorators' or pin to Numba version 0.48.0. This alias will not be present in Numba version 0.50.0.\",\n",
       " '  from numba.decorators import jit as optional_jit',\n",
       " '/home/jake/anaconda3/envs/mvae/lib/python3.8/site-packages/librosa/util/decorators.py:9: NumbaDeprecationWarning: An import was requested from a module that has moved location.',\n",
       " \"Import of 'jit' requested from: 'numba.decorators', please update to use 'numba.core.decorators' or pin to Numba version 0.48.0. This alias will not be present in Numba version 0.50.0.\",\n",
       " '  from numba.decorators import jit as optional_jit',\n",
       " \"/home/jake/anaconda3/envs/mvae/lib/python3.8/site-packages/pydub/utils.py:170: RuntimeWarning: Couldn't find ffmpeg or avconv - defaulting to ffmpeg, but may not work\",\n",
       " '  warn(\"Couldn\\'t find ffmpeg or avconv - defaulting to ffmpeg, but may not work\", RuntimeWarning)',\n",
       " 'WARNING:tensorflow:From /home/jake/anaconda3/envs/mvae/lib/python3.8/site-packages/tensorflow/python/compat/v2_compat.py:107: disable_resource_variables (from tensorflow.python.ops.variable_scope) is deprecated and will be removed in a future version.',\n",
       " 'Instructions for updating:',\n",
       " 'non-resource variables are not supported in the long term',\n",
       " '2022-11-19 22:10:19.469444: I tensorflow/stream_executor/cuda/cuda_gpu_executor.cc:961] could not open file to read NUMA node: /sys/bus/pci/devices/0000:09:00.0/numa_node',\n",
       " 'Your kernel may have been built without NUMA support.',\n",
       " \"2022-11-19 22:10:19.469620: W tensorflow/stream_executor/platform/default/dso_loader.cc:64] Could not load dynamic library 'libcudart.so.11.0'; dlerror: libcudart.so.11.0: cannot open shared object file: No such file or directory\",\n",
       " \"2022-11-19 22:10:19.469707: W tensorflow/stream_executor/platform/default/dso_loader.cc:64] Could not load dynamic library 'libcublas.so.11'; dlerror: libcublas.so.11: cannot open shared object file: No such file or directory\",\n",
       " \"2022-11-19 22:10:19.469792: W tensorflow/stream_executor/platform/default/dso_loader.cc:64] Could not load dynamic library 'libcublasLt.so.11'; dlerror: libcublasLt.so.11: cannot open shared object file: No such file or directory\",\n",
       " \"2022-11-19 22:10:19.469874: W tensorflow/stream_executor/platform/default/dso_loader.cc:64] Could not load dynamic library 'libcufft.so.10'; dlerror: libcufft.so.10: cannot open shared object file: No such file or directory\",\n",
       " \"2022-11-19 22:10:19.469955: W tensorflow/stream_executor/platform/default/dso_loader.cc:64] Could not load dynamic library 'libcurand.so.10'; dlerror: libcurand.so.10: cannot open shared object file: No such file or directory\",\n",
       " \"2022-11-19 22:10:19.470100: W tensorflow/stream_executor/platform/default/dso_loader.cc:64] Could not load dynamic library 'libcusolver.so.11'; dlerror: libcusolver.so.11: cannot open shared object file: No such file or directory\",\n",
       " \"2022-11-19 22:10:19.470197: W tensorflow/stream_executor/platform/default/dso_loader.cc:64] Could not load dynamic library 'libcusparse.so.11'; dlerror: libcusparse.so.11: cannot open shared object file: No such file or directory\",\n",
       " \"2022-11-19 22:10:19.470282: W tensorflow/stream_executor/platform/default/dso_loader.cc:64] Could not load dynamic library 'libcudnn.so.8'; dlerror: libcudnn.so.8: cannot open shared object file: No such file or directory\",\n",
       " '2022-11-19 22:10:19.470320: W tensorflow/core/common_runtime/gpu/gpu_device.cc:1850] Cannot dlopen some GPU libraries. Please make sure the missing libraries mentioned above are installed properly if you would like to use GPU. Follow the guide at https://www.tensorflow.org/install/gpu for how to download and setup the required libraries for your platform.',\n",
       " 'Skipping registering GPU devices...',\n",
       " 'INFO:tensorflow:Loading model...',\n",
       " 'I1119 22:10:19.471043 139638028636544 music_vae_generate.py:149] Loading model...',\n",
       " 'INFO:tensorflow:Building MusicVAE model with BidirectionalLstmEncoder, HierarchicalLstmDecoder, and hparams:',\n",
       " \"{'max_seq_len': 64, 'z_size': 512, 'free_bits': 48, 'max_beta': 0.2, 'beta_rate': 0.0, 'batch_size': 8, 'grad_clip': 1.0, 'clip_mode': 'global_norm', 'grad_norm_clip_to_zero': 10000, 'learning_rate': 0.001, 'decay_rate': 0.9999, 'min_learning_rate': 1e-05, 'conditional': True, 'dec_rnn_size': [256, 256], 'enc_rnn_size': [512, 512], 'dropout_keep_prob': 1.0, 'sampling_schedule': 'inverse_sigmoid', 'sampling_rate': 1000, 'use_cudnn': False, 'residual_encoder': False, 'residual_decoder': False, 'control_preprocessing_rnn_size': [256]}\",\n",
       " 'I1119 22:10:19.472153 139638028636544 base_model.py:150] Building MusicVAE model with BidirectionalLstmEncoder, HierarchicalLstmDecoder, and hparams:',\n",
       " \"{'max_seq_len': 64, 'z_size': 512, 'free_bits': 48, 'max_beta': 0.2, 'beta_rate': 0.0, 'batch_size': 8, 'grad_clip': 1.0, 'clip_mode': 'global_norm', 'grad_norm_clip_to_zero': 10000, 'learning_rate': 0.001, 'decay_rate': 0.9999, 'min_learning_rate': 1e-05, 'conditional': True, 'dec_rnn_size': [256, 256], 'enc_rnn_size': [512, 512], 'dropout_keep_prob': 1.0, 'sampling_schedule': 'inverse_sigmoid', 'sampling_rate': 1000, 'use_cudnn': False, 'residual_encoder': False, 'residual_decoder': False, 'control_preprocessing_rnn_size': [256]}\",\n",
       " 'INFO:tensorflow:',\n",
       " 'Encoder Cells (bidirectional):',\n",
       " '  units: [512, 512]',\n",
       " '',\n",
       " 'I1119 22:10:19.477386 139638028636544 lstm_models.py:76] ',\n",
       " 'Encoder Cells (bidirectional):',\n",
       " '  units: [512, 512]',\n",
       " '',\n",
       " 'WARNING:tensorflow:`tf.nn.rnn_cell.MultiRNNCell` is deprecated. This class is equivalent as `tf.keras.layers.StackedRNNCells`, and will be replaced by that in Tensorflow 2.0.',\n",
       " 'W1119 22:10:19.484483 139638028636544 legacy_cells.py:1109] `tf.nn.rnn_cell.MultiRNNCell` is deprecated. This class is equivalent as `tf.keras.layers.StackedRNNCells`, and will be replaced by that in Tensorflow 2.0.',\n",
       " 'WARNING:tensorflow:`tf.nn.rnn_cell.MultiRNNCell` is deprecated. This class is equivalent as `tf.keras.layers.StackedRNNCells`, and will be replaced by that in Tensorflow 2.0.',\n",
       " 'W1119 22:10:19.491189 139638028636544 legacy_cells.py:1109] `tf.nn.rnn_cell.MultiRNNCell` is deprecated. This class is equivalent as `tf.keras.layers.StackedRNNCells`, and will be replaced by that in Tensorflow 2.0.',\n",
       " 'WARNING:tensorflow:`tf.nn.rnn_cell.MultiRNNCell` is deprecated. This class is equivalent as `tf.keras.layers.StackedRNNCells`, and will be replaced by that in Tensorflow 2.0.',\n",
       " 'W1119 22:10:19.497378 139638028636544 legacy_cells.py:1109] `tf.nn.rnn_cell.MultiRNNCell` is deprecated. This class is equivalent as `tf.keras.layers.StackedRNNCells`, and will be replaced by that in Tensorflow 2.0.',\n",
       " 'WARNING:tensorflow:`tf.nn.rnn_cell.MultiRNNCell` is deprecated. This class is equivalent as `tf.keras.layers.StackedRNNCells`, and will be replaced by that in Tensorflow 2.0.',\n",
       " 'W1119 22:10:19.503631 139638028636544 legacy_cells.py:1109] `tf.nn.rnn_cell.MultiRNNCell` is deprecated. This class is equivalent as `tf.keras.layers.StackedRNNCells`, and will be replaced by that in Tensorflow 2.0.',\n",
       " 'INFO:tensorflow:',\n",
       " 'Hierarchical Decoder:',\n",
       " '  input length: 64',\n",
       " '  level output lengths: [8, 8]',\n",
       " '',\n",
       " 'I1119 22:10:19.504572 139638028636544 lstm_models.py:894] ',\n",
       " 'Hierarchical Decoder:',\n",
       " '  input length: 64',\n",
       " '  level output lengths: [8, 8]',\n",
       " '',\n",
       " 'WARNING:tensorflow:`tf.nn.rnn_cell.MultiRNNCell` is deprecated. This class is equivalent as `tf.keras.layers.StackedRNNCells`, and will be replaced by that in Tensorflow 2.0.',\n",
       " 'W1119 22:10:19.516877 139638028636544 legacy_cells.py:1109] `tf.nn.rnn_cell.MultiRNNCell` is deprecated. This class is equivalent as `tf.keras.layers.StackedRNNCells`, and will be replaced by that in Tensorflow 2.0.',\n",
       " 'INFO:tensorflow:',\n",
       " 'Decoder Cells:',\n",
       " '  units: [256, 256]',\n",
       " '',\n",
       " 'I1119 22:10:19.517544 139638028636544 lstm_models.py:222] ',\n",
       " 'Decoder Cells:',\n",
       " '  units: [256, 256]',\n",
       " '',\n",
       " 'WARNING:tensorflow:Setting non-training sampling schedule from inverse_sigmoid:1000.000000 to constant:1.0.',\n",
       " 'W1119 22:10:19.517675 139638028636544 lstm_utils.py:137] Setting non-training sampling schedule from inverse_sigmoid:1000.000000 to constant:1.0.',\n",
       " 'WARNING:tensorflow:From /home/jake/anaconda3/envs/mvae/lib/python3.8/site-packages/tensorflow/python/util/dispatch.py:1082: to_float (from tensorflow.python.ops.math_ops) is deprecated and will be removed in a future version.',\n",
       " 'Instructions for updating:',\n",
       " 'Use `tf.cast` instead.',\n",
       " 'W1119 22:10:19.517885 139638028636544 deprecation.py:350] From /home/jake/anaconda3/envs/mvae/lib/python3.8/site-packages/tensorflow/python/util/dispatch.py:1082: to_float (from tensorflow.python.ops.math_ops) is deprecated and will be removed in a future version.',\n",
       " 'Instructions for updating:',\n",
       " 'Use `tf.cast` instead.',\n",
       " 'WARNING:tensorflow:`tf.nn.rnn_cell.MultiRNNCell` is deprecated. This class is equivalent as `tf.keras.layers.StackedRNNCells`, and will be replaced by that in Tensorflow 2.0.',\n",
       " 'W1119 22:10:19.533229 139638028636544 legacy_cells.py:1109] `tf.nn.rnn_cell.MultiRNNCell` is deprecated. This class is equivalent as `tf.keras.layers.StackedRNNCells`, and will be replaced by that in Tensorflow 2.0.',\n",
       " '/home/jake/codes/beat-generation-with-mvae/magenta/magenta/models/music_vae/lstm_utils.py:94: UserWarning: `tf.layers.dense` is deprecated and will be removed in a future version. Please use `tf.keras.layers.Dense` instead.',\n",
       " '  tf.layers.dense(',\n",
       " '/home/jake/codes/beat-generation-with-mvae/magenta/magenta/contrib/rnn.py:749: UserWarning: `layer.add_variable` is deprecated and will be removed in a future version. Please use the `layer.add_weight()` method instead.',\n",
       " '  self._kernel = self.add_variable(',\n",
       " '/home/jake/codes/beat-generation-with-mvae/magenta/magenta/contrib/rnn.py:751: UserWarning: `layer.add_variable` is deprecated and will be removed in a future version. Please use the `layer.add_weight()` method instead.',\n",
       " '  self._bias = self.add_variable(',\n",
       " 'WARNING:tensorflow:From /home/jake/codes/beat-generation-with-mvae/magenta/magenta/contrib/rnn.py:463: bidirectional_dynamic_rnn (from tensorflow.python.ops.rnn) is deprecated and will be removed in a future version.',\n",
       " 'Instructions for updating:',\n",
       " 'Please use `keras.layers.Bidirectional(keras.layers.RNN(cell))`, which is equivalent to this API',\n",
       " 'W1119 22:10:20.997933 139638028636544 deprecation.py:350] From /home/jake/codes/beat-generation-with-mvae/magenta/magenta/contrib/rnn.py:463: bidirectional_dynamic_rnn (from tensorflow.python.ops.rnn) is deprecated and will be removed in a future version.',\n",
       " 'Instructions for updating:',\n",
       " 'Please use `keras.layers.Bidirectional(keras.layers.RNN(cell))`, which is equivalent to this API',\n",
       " 'WARNING:tensorflow:From /home/jake/anaconda3/envs/mvae/lib/python3.8/site-packages/tensorflow/python/ops/rnn.py:437: dynamic_rnn (from tensorflow.python.ops.rnn) is deprecated and will be removed in a future version.',\n",
       " 'Instructions for updating:',\n",
       " 'Please use `keras.layers.RNN(cell)`, which is equivalent to this API',\n",
       " 'W1119 22:10:20.998385 139638028636544 deprecation.py:350] From /home/jake/anaconda3/envs/mvae/lib/python3.8/site-packages/tensorflow/python/ops/rnn.py:437: dynamic_rnn (from tensorflow.python.ops.rnn) is deprecated and will be removed in a future version.',\n",
       " 'Instructions for updating:',\n",
       " 'Please use `keras.layers.RNN(cell)`, which is equivalent to this API',\n",
       " '/home/jake/codes/beat-generation-with-mvae/magenta/magenta/models/music_vae/base_model.py:195: UserWarning: `tf.layers.dense` is deprecated and will be removed in a future version. Please use `tf.keras.layers.Dense` instead.',\n",
       " '  mu = tf.layers.dense(',\n",
       " '/home/jake/codes/beat-generation-with-mvae/magenta/magenta/models/music_vae/base_model.py:200: UserWarning: `tf.layers.dense` is deprecated and will be removed in a future version. Please use `tf.keras.layers.Dense` instead.',\n",
       " '  sigma = tf.layers.dense(',\n",
       " 'WARNING:tensorflow:From /home/jake/anaconda3/envs/mvae/lib/python3.8/site-packages/tensorflow_probability/python/distributions/distribution.py:342: calling MultivariateNormalDiag.__init__ (from tensorflow_probability.python.distributions.mvn_diag) with scale_identity_multiplier is deprecated and will be removed after 2020-01-01.',\n",
       " 'Instructions for updating:',\n",
       " '`scale_identity_multiplier` is deprecated; please combine it into `scale_diag` directly instead.',\n",
       " 'W1119 22:10:21.331433 139638028636544 deprecation.py:554] From /home/jake/anaconda3/envs/mvae/lib/python3.8/site-packages/tensorflow_probability/python/distributions/distribution.py:342: calling MultivariateNormalDiag.__init__ (from tensorflow_probability.python.distributions.mvn_diag) with scale_identity_multiplier is deprecated and will be removed after 2020-01-01.',\n",
       " 'Instructions for updating:',\n",
       " '`scale_identity_multiplier` is deprecated; please combine it into `scale_diag` directly instead.',\n",
       " '2022-11-19 22:10:21.364169: I tensorflow/core/platform/cpu_feature_guard.cc:193] This TensorFlow binary is optimized with oneAPI Deep Neural Network Library (oneDNN) to use the following CPU instructions in performance-critical operations:  AVX2 FMA',\n",
       " 'To enable them in other operations, rebuild TensorFlow with the appropriate compiler flags.',\n",
       " 'INFO:tensorflow:Unbundling checkpoint.',\n",
       " 'I1119 22:10:21.388967 139638028636544 trained_model.py:122] Unbundling checkpoint.',\n",
       " 'INFO:tensorflow:Restoring parameters from /tmp/tmpojwgpb3y/model.ckpt-5211',\n",
       " 'I1119 22:10:21.579982 139638028636544 saver.py:1412] Restoring parameters from /tmp/tmpojwgpb3y/model.ckpt-5211',\n",
       " '2022-11-19 22:10:21.613256: I tensorflow/compiler/mlir/mlir_graph_optimization_pass.cc:354] MLIR V1 optimization pass is not enabled',\n",
       " 'INFO:tensorflow:Sampling...',\n",
       " 'I1119 22:10:21.737839 139638028636544 music_vae_generate.py:169] Sampling...',\n",
       " 'INFO:tensorflow:Outputting 8 files as `results/v2/generated-4bar-ckpt-5211-8-samples/hierdec-drum_4bar_sample_2022-11-19_221019-*-of-008.mid`...',\n",
       " 'I1119 22:10:22.208487 139638028636544 music_vae_generate.py:179] Outputting 8 files as `results/v2/generated-4bar-ckpt-5211-8-samples/hierdec-drum_4bar_sample_2022-11-19_221019-*-of-008.mid`...',\n",
       " 'INFO:tensorflow:Done.',\n",
       " 'I1119 22:10:22.252558 139638028636544 music_vae_generate.py:183] Done.']"
      ]
     },
     "execution_count": 5,
     "metadata": {},
     "output_type": "execute_result"
    }
   ],
   "source": [
    "%%!\n",
    "\n",
    "python magenta/magenta/models/music_vae/music_vae_generate.py \\\n",
    "--config=hierdec-drum_4bar \\\n",
    "--checkpoint_file='save_model/v2/hierdec-drum_4bar-ckpt-5211.tar' \\\n",
    "--mode=sample \\\n",
    "--num_outputs=8 \\\n",
    "--output_dir='results/v2/generated-4bar-ckpt-5211-8-samples'"
   ]
  }
 ],
 "metadata": {
  "kernelspec": {
   "display_name": "Python 3.8.13 ('mvae')",
   "language": "python",
   "name": "python3"
  },
  "language_info": {
   "codemirror_mode": {
    "name": "ipython",
    "version": 3
   },
   "file_extension": ".py",
   "mimetype": "text/x-python",
   "name": "python",
   "nbconvert_exporter": "python",
   "pygments_lexer": "ipython3",
   "version": "3.8.13"
  },
  "orig_nbformat": 4,
  "vscode": {
   "interpreter": {
    "hash": "d0e19ede0c40c4e3f9f9593be40b4940b4a1821e84e57723945abe3794f89967"
   }
  }
 },
 "nbformat": 4,
 "nbformat_minor": 2
}
