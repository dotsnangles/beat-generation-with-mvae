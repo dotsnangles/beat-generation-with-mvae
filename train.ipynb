{
 "cells": [
  {
   "cell_type": "code",
   "execution_count": null,
   "metadata": {},
   "outputs": [],
   "source": [
    "### for training on colab\n",
    "\n",
    "# from google.colab import drive\n",
    "# drive.mount('/content/drive')\n",
    "\n",
    "# %cd /content/drive/MyDrive/codes/beat-generation-with-mvae/magenta\n",
    "# !pip install -q -e .\n",
    "# !pip install apache_beam\n",
    "# !sudo apt-get install build-essential libasound2-dev libjack-dev portaudio19-dev -y\n",
    "# %cd /content/drive/MyDrive/codes/beat-generation-with-mvae"
   ]
  },
  {
   "cell_type": "markdown",
   "metadata": {},
   "source": [
    "# music_vae_train"
   ]
  },
  {
   "cell_type": "code",
   "execution_count": null,
   "metadata": {},
   "outputs": [],
   "source": [
    "# %%!\n",
    "\n",
    "# python magenta/magenta/models/music_vae/music_vae_train.py \\\n",
    "# --config=hierdec-drum_4bar \\\n",
    "# --run_dir=temp \\\n",
    "# --mode=train \\\n",
    "# --examples_path=data/notesequences.tfrecord"
   ]
  },
  {
   "cell_type": "code",
   "execution_count": null,
   "metadata": {},
   "outputs": [],
   "source": [
    "!python magenta/magenta/models/music_vae/music_vae_train.py --config=hierdec-drum_4bar --run_dir=temp --mode=train --examples_path=data/notesequences.tfrecord"
   ]
  }
 ],
 "metadata": {
  "kernelspec": {
   "display_name": "Python 3.8.13 ('mvae')",
   "language": "python",
   "name": "python3"
  },
  "language_info": {
   "codemirror_mode": {
    "name": "ipython",
    "version": 3
   },
   "file_extension": ".py",
   "mimetype": "text/x-python",
   "name": "python",
   "nbconvert_exporter": "python",
   "pygments_lexer": "ipython3",
   "version": "3.8.13"
  },
  "orig_nbformat": 4,
  "vscode": {
   "interpreter": {
    "hash": "d0e19ede0c40c4e3f9f9593be40b4940b4a1821e84e57723945abe3794f89967"
   }
  }
 },
 "nbformat": 4,
 "nbformat_minor": 2
}
